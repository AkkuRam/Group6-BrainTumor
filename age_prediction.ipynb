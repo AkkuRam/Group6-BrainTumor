{
 "cells": [
  {
   "cell_type": "code",
   "execution_count": 1,
   "id": "7625edd9",
   "metadata": {},
   "outputs": [
    {
     "name": "stderr",
     "output_type": "stream",
     "text": [
      "<>:18: SyntaxWarning: invalid escape sequence '\\d'\n",
      "<>:18: SyntaxWarning: invalid escape sequence '\\d'\n",
      "C:\\Users\\reach\\AppData\\Local\\Temp\\ipykernel_21748\\2692510905.py:18: SyntaxWarning: invalid escape sequence '\\d'\n",
      "  df = pd.read_csv('kaggle_3m\\data.csv')\n"
     ]
    },
    {
     "data": {
      "text/plain": [
       "109    TCGA_HT_A61B\n",
       "Name: Patient, dtype: object"
      ]
     },
     "execution_count": 1,
     "metadata": {},
     "output_type": "execute_result"
    }
   ],
   "source": [
    "import torch\n",
    "import torch.nn as nn\n",
    "from torchvision import datasets, transforms\n",
    "from torch.utils.data import DataLoader, random_split\n",
    "from torch.utils.data import Dataset\n",
    "from torchvision.models import resnet18, ResNet18_Weights\n",
    "import matplotlib.pyplot as plt\n",
    "import numpy as np\n",
    "import cv2\n",
    "import os\n",
    "import warnings\n",
    "import pandas as pd\n",
    "warnings.filterwarnings(\"ignore\")\n",
    "import re\n",
    "from tqdm import tqdm\n",
    "from PIL import Image\n",
    "\n",
    "df = pd.read_csv('kaggle_3m\\data.csv')\n",
    "missing = df[df['age_at_initial_pathologic'].isna()]['Patient']\n",
    "missing"
   ]
  },
  {
   "cell_type": "code",
   "execution_count": 2,
   "id": "4a4d2f77",
   "metadata": {},
   "outputs": [],
   "source": [
    "def get_images(dir):\n",
    "    images = []\n",
    "    ids = []\n",
    "\n",
    "    for subdir in os.listdir(dir):\n",
    "        path = os.path.join(dir, subdir)\n",
    "        pattern = r\"TCGA_(CS|DU|FG|HT|EZ)_(\\w{4})\"\n",
    "        match = re.search(pattern, path)\n",
    "\n",
    "        if match:\n",
    "            ids.append(match.group(2))\n",
    "\n",
    "        if path.startswith(\"kaggle_3m\\TCGA\"):\n",
    "            for image_name in os.listdir(path):\n",
    "                \n",
    "                if \"mask\" in image_name:\n",
    "                    continue\n",
    "                elif \"TCGA_HT_A61B\" in image_name:\n",
    "                    continue\n",
    "                else:\n",
    "                    images.append(os.path.join(path, image_name))\n",
    "    return images, ids\n",
    "\n",
    "def get_labels(images, ids):\n",
    "    ids = [id for image in images for id in ids if  id in image]\n",
    "    df['num_id'] = df['Patient'].str.extract(r'([^_]+)$')\n",
    "    labels = []\n",
    "    for id in ids:\n",
    "        age = df.loc[df['num_id'] == id, 'age_at_initial_pathologic'].values\n",
    "        labels.append(age)\n",
    "    return labels\n",
    "\n",
    "class CustomImageDataset(Dataset):\n",
    "    def __init__(self, images, labels, transform=None):\n",
    "        self.images = images\n",
    "        self.labels = labels\n",
    "        self.transform = transform\n",
    "\n",
    "    def __len__(self):\n",
    "        return len(self.images)\n",
    "\n",
    "    def __getitem__(self, idx):\n",
    "        image = self.images[idx]\n",
    "        label = self.labels[idx]\n",
    "\n",
    "        if isinstance(image, np.ndarray):\n",
    "            image = Image.fromarray(image)\n",
    "            \n",
    "        if self.transform:\n",
    "            image = self.transform(image)\n",
    "        \n",
    "        return image, label\n",
    "\n",
    "def evaluate(model, loader, device):\n",
    "    model.eval()\n",
    "    total_error = 0\n",
    "    count = 0\n",
    "    with torch.no_grad():  \n",
    "        for images, labels in loader:\n",
    "            images = images.to(device)\n",
    "            labels = labels.to(device)\n",
    "            outputs = model(images) \n",
    "            total_error += torch.sum(torch.abs(outputs - labels))\n",
    "            count += images.size(0)\n",
    "    \n",
    "    return total_error / count\n"
   ]
  },
  {
   "cell_type": "code",
   "execution_count": 3,
   "id": "90702cd6",
   "metadata": {},
   "outputs": [
    {
     "name": "stderr",
     "output_type": "stream",
     "text": [
      "Epoch 1: 100%|██████████| 168/168 [06:09<00:00,  2.20s/it]\n"
     ]
    },
    {
     "name": "stdout",
     "output_type": "stream",
     "text": [
      "Epoch 1, Mean Absolute Error: 30.97070491492438\n"
     ]
    },
    {
     "name": "stderr",
     "output_type": "stream",
     "text": [
      "Epoch 2: 100%|██████████| 168/168 [06:03<00:00,  2.16s/it]\n"
     ]
    },
    {
     "name": "stdout",
     "output_type": "stream",
     "text": [
      "Epoch 2, Mean Absolute Error: 27.623104484027458\n"
     ]
    },
    {
     "name": "stderr",
     "output_type": "stream",
     "text": [
      "Epoch 3: 100%|██████████| 168/168 [05:07<00:00,  1.83s/it]\n"
     ]
    },
    {
     "name": "stdout",
     "output_type": "stream",
     "text": [
      "Epoch 3, Mean Absolute Error: 20.662000284426743\n"
     ]
    },
    {
     "name": "stderr",
     "output_type": "stream",
     "text": [
      "Epoch 4: 100%|██████████| 168/168 [05:07<00:00,  1.83s/it]\n"
     ]
    },
    {
     "name": "stdout",
     "output_type": "stream",
     "text": [
      "Epoch 4, Mean Absolute Error: 14.459283164805836\n"
     ]
    },
    {
     "name": "stderr",
     "output_type": "stream",
     "text": [
      "Epoch 5: 100%|██████████| 168/168 [04:55<00:00,  1.76s/it]\n"
     ]
    },
    {
     "name": "stdout",
     "output_type": "stream",
     "text": [
      "Epoch 5, Mean Absolute Error: 4.899900919861263\n"
     ]
    },
    {
     "name": "stderr",
     "output_type": "stream",
     "text": [
      "Epoch 6: 100%|██████████| 168/168 [06:02<00:00,  2.16s/it]\n"
     ]
    },
    {
     "name": "stdout",
     "output_type": "stream",
     "text": [
      "Epoch 6, Mean Absolute Error: 6.385203765498267\n"
     ]
    },
    {
     "name": "stderr",
     "output_type": "stream",
     "text": [
      "Epoch 7: 100%|██████████| 168/168 [05:32<00:00,  1.98s/it]\n"
     ]
    },
    {
     "name": "stdout",
     "output_type": "stream",
     "text": [
      "Epoch 7, Mean Absolute Error: 6.251849424507883\n"
     ]
    },
    {
     "name": "stderr",
     "output_type": "stream",
     "text": [
      "Epoch 8: 100%|██████████| 168/168 [05:50<00:00,  2.09s/it]\n"
     ]
    },
    {
     "name": "stdout",
     "output_type": "stream",
     "text": [
      "Epoch 8, Mean Absolute Error: 4.608791993723975\n"
     ]
    },
    {
     "name": "stderr",
     "output_type": "stream",
     "text": [
      "Epoch 9: 100%|██████████| 168/168 [06:22<00:00,  2.28s/it]\n"
     ]
    },
    {
     "name": "stdout",
     "output_type": "stream",
     "text": [
      "Epoch 9, Mean Absolute Error: 3.6214528481165567\n"
     ]
    },
    {
     "name": "stderr",
     "output_type": "stream",
     "text": [
      "Epoch 10: 100%|██████████| 168/168 [07:15<00:00,  2.59s/it]\n"
     ]
    },
    {
     "name": "stdout",
     "output_type": "stream",
     "text": [
      "Epoch 10, Mean Absolute Error: 3.978367875019709\n"
     ]
    }
   ],
   "source": [
    "images, ids = get_images('kaggle_3m')\n",
    "labels = get_labels(images, ids)\n",
    "for i in range(len(images)):\n",
    "    images[i] = cv2.imread(images[i])\n",
    "    images[i] = np.array(images[i])\n",
    "\n",
    "transform = transforms.Compose([\n",
    "    transforms.GaussianBlur(kernel_size=5, sigma=(0.1, 2.0)),  \n",
    "    transforms.ToTensor(),  \n",
    "    transforms.Normalize(mean=[0.485, 0.456, 0.406], std=[0.229, 0.224, 0.225]) \n",
    "])\n",
    "\n",
    "dataset = CustomImageDataset(images, labels, transform=transform)\n",
    "loader = DataLoader(dataset, batch_size=32, shuffle=True)\n",
    "\n",
    "size = len(loader.dataset)\n",
    "train_size = int(0.7 * size)\n",
    "val_size = int(0.15 * size)\n",
    "test_size = size - train_size - val_size\n",
    "\n",
    "train_set, val_set, test_set = random_split(loader.dataset, [train_size, val_size, test_size])\n",
    "train_loader = DataLoader(train_set, batch_size=16, shuffle=True)\n",
    "val_loader = DataLoader(val_set, batch_size=16, shuffle=False)\n",
    "test_loader = DataLoader(test_set, batch_size=16, shuffle=False)\n",
    "\n",
    "weights = ResNet18_Weights.DEFAULT\n",
    "model = resnet18(weights=weights)\n",
    "model.fc = nn.Linear(model.fc.in_features, 1)\n",
    "\n",
    "device = torch.device(\"cpu\")\n",
    "criterion = nn.MSELoss()\n",
    "optimizer = torch.optim.Adam(model.parameters(), lr=1e-4)\n",
    "epochs = 10\n",
    "\n",
    "\n",
    "for epoch in range(epochs):\n",
    "    model.train() \n",
    "    for images, labels in tqdm(train_loader, desc=f\"Epoch {epoch+1}\"):\n",
    "        images = images.to(device)\n",
    "        labels = labels.to(device)\n",
    "\n",
    "        optimizer.zero_grad()  \n",
    "        outputs = model(images)  \n",
    "        loss = criterion(outputs.float(), labels.float())\n",
    "\n",
    "        loss.backward()  \n",
    "        optimizer.step()  \n",
    "\n",
    "    MAE = evaluate(model, val_loader, device)\n",
    "    print(f\"Epoch {epoch+1}, Mean Absolute Error: {MAE.item()}\")"
   ]
  },
  {
   "cell_type": "code",
   "execution_count": 4,
   "id": "41d9ad3f",
   "metadata": {},
   "outputs": [],
   "source": [
    "torch.save(model.state_dict(), \"resnet.pth\")"
   ]
  },
  {
   "cell_type": "code",
   "execution_count": 5,
   "id": "e8e779d9",
   "metadata": {},
   "outputs": [
    {
     "name": "stdout",
     "output_type": "stream",
     "text": [
      "Mean Absolute Error: 3.853621266330342\n"
     ]
    }
   ],
   "source": [
    "MAE = evaluate(model, test_loader, device)\n",
    "print(f\"Mean Absolute Error: {MAE.item()}\")"
   ]
  }
 ],
 "metadata": {
  "kernelspec": {
   "display_name": "Python 3",
   "language": "python",
   "name": "python3"
  },
  "language_info": {
   "codemirror_mode": {
    "name": "ipython",
    "version": 3
   },
   "file_extension": ".py",
   "mimetype": "text/x-python",
   "name": "python",
   "nbconvert_exporter": "python",
   "pygments_lexer": "ipython3",
   "version": "3.13.1"
  }
 },
 "nbformat": 4,
 "nbformat_minor": 5
}
